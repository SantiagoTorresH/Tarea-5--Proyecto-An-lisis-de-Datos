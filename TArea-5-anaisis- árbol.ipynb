{
 "cells": [
  {
   "cell_type": "markdown",
   "id": "e2f981a3-af0f-48d8-8fa6-36d49f5bc271",
   "metadata": {},
   "source": [
    "# Dataset del TITANIC - SANTIAGO TORRES, ANALISIS DE DATOS, TAREA 5- FINAL"
   ]
  },
  {
   "cell_type": "markdown",
   "id": "8a3937ce-9056-4aa2-b3f7-8ce1d5b5b750",
   "metadata": {},
   "source": [
    "# --selecciono el modelo de aprendizaje Supervisado Árboles de decisión para trabajar con el dataset del titanic."
   ]
  },
  {
   "cell_type": "markdown",
   "id": "4c576c65-96c2-4e84-af31-0b60abfa68e1",
   "metadata": {},
   "source": [
    "# 1. Realizar un análisis exploratorio de los datos para identificar relaciones entre variables, valores atípicos, tendencias, etc."
   ]
  },
  {
   "cell_type": "code",
   "execution_count": 1,
   "id": "917cbbb5-8718-47da-a782-4382227b9185",
   "metadata": {},
   "outputs": [],
   "source": [
    "#cargar las librerias necesarias\n",
    "import pandas as pd #maneja y analisa estructura de datos.\n",
    "import numpy as np # calculo numerico y el analisis de datos\n",
    "import seaborn as sns # creacion graficos estadisticos\n",
    "import matplotlib.pyplot as plt # crea graficos en 2 dimensiones\n",
    "\n",
    "# librerias para implementar modelo de ciencia de datos\n",
    "from sklearn import tree\n",
    "from sklearn.model_selection import train_test_split # de sklearn me importa train_test\n",
    "from sklearn.tree import DecisionTreeClassifier, plot_tree\n",
    "from sklearn.metrics import accuracy_score"
   ]
  },
  {
   "cell_type": "code",
   "execution_count": 2,
   "id": "77fec6ec-bc47-4167-92a0-c41108362c1a",
   "metadata": {},
   "outputs": [
    {
     "data": {
      "text/html": [
       "<div>\n",
       "<style scoped>\n",
       "    .dataframe tbody tr th:only-of-type {\n",
       "        vertical-align: middle;\n",
       "    }\n",
       "\n",
       "    .dataframe tbody tr th {\n",
       "        vertical-align: top;\n",
       "    }\n",
       "\n",
       "    .dataframe thead th {\n",
       "        text-align: right;\n",
       "    }\n",
       "</style>\n",
       "<table border=\"1\" class=\"dataframe\">\n",
       "  <thead>\n",
       "    <tr style=\"text-align: right;\">\n",
       "      <th></th>\n",
       "      <th>PassengerId</th>\n",
       "      <th>Survived</th>\n",
       "      <th>Pclass</th>\n",
       "      <th>Name</th>\n",
       "      <th>Sex</th>\n",
       "      <th>Age</th>\n",
       "      <th>SibSp</th>\n",
       "      <th>Parch</th>\n",
       "      <th>Ticket</th>\n",
       "      <th>Fare</th>\n",
       "      <th>Cabin</th>\n",
       "      <th>Embarked</th>\n",
       "    </tr>\n",
       "  </thead>\n",
       "  <tbody>\n",
       "    <tr>\n",
       "      <th>0</th>\n",
       "      <td>1</td>\n",
       "      <td>0</td>\n",
       "      <td>3</td>\n",
       "      <td>Braund, Mr. Owen Harris</td>\n",
       "      <td>male</td>\n",
       "      <td>22.0</td>\n",
       "      <td>1</td>\n",
       "      <td>0</td>\n",
       "      <td>A/5 21171</td>\n",
       "      <td>7.2500</td>\n",
       "      <td>NaN</td>\n",
       "      <td>S</td>\n",
       "    </tr>\n",
       "    <tr>\n",
       "      <th>1</th>\n",
       "      <td>2</td>\n",
       "      <td>1</td>\n",
       "      <td>1</td>\n",
       "      <td>Cumings, Mrs. John Bradley (Florence Briggs Th...</td>\n",
       "      <td>female</td>\n",
       "      <td>38.0</td>\n",
       "      <td>1</td>\n",
       "      <td>0</td>\n",
       "      <td>PC 17599</td>\n",
       "      <td>71.2833</td>\n",
       "      <td>C85</td>\n",
       "      <td>C</td>\n",
       "    </tr>\n",
       "    <tr>\n",
       "      <th>2</th>\n",
       "      <td>3</td>\n",
       "      <td>1</td>\n",
       "      <td>3</td>\n",
       "      <td>Heikkinen, Miss. Laina</td>\n",
       "      <td>female</td>\n",
       "      <td>26.0</td>\n",
       "      <td>0</td>\n",
       "      <td>0</td>\n",
       "      <td>STON/O2. 3101282</td>\n",
       "      <td>7.9250</td>\n",
       "      <td>NaN</td>\n",
       "      <td>S</td>\n",
       "    </tr>\n",
       "    <tr>\n",
       "      <th>3</th>\n",
       "      <td>4</td>\n",
       "      <td>1</td>\n",
       "      <td>1</td>\n",
       "      <td>Futrelle, Mrs. Jacques Heath (Lily May Peel)</td>\n",
       "      <td>female</td>\n",
       "      <td>35.0</td>\n",
       "      <td>1</td>\n",
       "      <td>0</td>\n",
       "      <td>113803</td>\n",
       "      <td>53.1000</td>\n",
       "      <td>C123</td>\n",
       "      <td>S</td>\n",
       "    </tr>\n",
       "    <tr>\n",
       "      <th>4</th>\n",
       "      <td>5</td>\n",
       "      <td>0</td>\n",
       "      <td>3</td>\n",
       "      <td>Allen, Mr. William Henry</td>\n",
       "      <td>male</td>\n",
       "      <td>35.0</td>\n",
       "      <td>0</td>\n",
       "      <td>0</td>\n",
       "      <td>373450</td>\n",
       "      <td>8.0500</td>\n",
       "      <td>NaN</td>\n",
       "      <td>S</td>\n",
       "    </tr>\n",
       "  </tbody>\n",
       "</table>\n",
       "</div>"
      ],
      "text/plain": [
       "   PassengerId  Survived  Pclass  \\\n",
       "0            1         0       3   \n",
       "1            2         1       1   \n",
       "2            3         1       3   \n",
       "3            4         1       1   \n",
       "4            5         0       3   \n",
       "\n",
       "                                                Name     Sex   Age  SibSp  \\\n",
       "0                            Braund, Mr. Owen Harris    male  22.0      1   \n",
       "1  Cumings, Mrs. John Bradley (Florence Briggs Th...  female  38.0      1   \n",
       "2                             Heikkinen, Miss. Laina  female  26.0      0   \n",
       "3       Futrelle, Mrs. Jacques Heath (Lily May Peel)  female  35.0      1   \n",
       "4                           Allen, Mr. William Henry    male  35.0      0   \n",
       "\n",
       "   Parch            Ticket     Fare Cabin Embarked  \n",
       "0      0         A/5 21171   7.2500   NaN        S  \n",
       "1      0          PC 17599  71.2833   C85        C  \n",
       "2      0  STON/O2. 3101282   7.9250   NaN        S  \n",
       "3      0            113803  53.1000  C123        S  \n",
       "4      0            373450   8.0500   NaN        S  "
      ]
     },
     "execution_count": 2,
     "metadata": {},
     "output_type": "execute_result"
    }
   ],
   "source": [
    "# Lectura del dataset y se cargan en la variable titanic\n",
    "titanic = pd.read_csv('Titanic-Dataset.csv')\n",
    "# se realiza la lectura de los datos para el analisis exploratorio\n",
    "titanic.head()"
   ]
  },
  {
   "cell_type": "code",
   "execution_count": 4,
   "id": "dd1b5639-b3e8-4ecb-b073-d75c9fc9ec12",
   "metadata": {},
   "outputs": [
    {
     "data": {
      "text/plain": [
       "(891, 12)"
      ]
     },
     "execution_count": 4,
     "metadata": {},
     "output_type": "execute_result"
    }
   ],
   "source": [
    "titanic.shape  # nos muestra la dimension del dataset"
   ]
  },
  {
   "cell_type": "code",
   "execution_count": 5,
   "id": "5acf54c2-2d20-44c6-bd9c-08522aed3111",
   "metadata": {},
   "outputs": [
    {
     "data": {
      "text/html": [
       "<div>\n",
       "<style scoped>\n",
       "    .dataframe tbody tr th:only-of-type {\n",
       "        vertical-align: middle;\n",
       "    }\n",
       "\n",
       "    .dataframe tbody tr th {\n",
       "        vertical-align: top;\n",
       "    }\n",
       "\n",
       "    .dataframe thead th {\n",
       "        text-align: right;\n",
       "    }\n",
       "</style>\n",
       "<table border=\"1\" class=\"dataframe\">\n",
       "  <thead>\n",
       "    <tr style=\"text-align: right;\">\n",
       "      <th></th>\n",
       "      <th>PassengerId</th>\n",
       "      <th>Survived</th>\n",
       "      <th>Pclass</th>\n",
       "      <th>Age</th>\n",
       "      <th>SibSp</th>\n",
       "      <th>Parch</th>\n",
       "      <th>Fare</th>\n",
       "    </tr>\n",
       "  </thead>\n",
       "  <tbody>\n",
       "    <tr>\n",
       "      <th>count</th>\n",
       "      <td>891.000000</td>\n",
       "      <td>891.000000</td>\n",
       "      <td>891.000000</td>\n",
       "      <td>714.000000</td>\n",
       "      <td>891.000000</td>\n",
       "      <td>891.000000</td>\n",
       "      <td>891.000000</td>\n",
       "    </tr>\n",
       "    <tr>\n",
       "      <th>mean</th>\n",
       "      <td>446.000000</td>\n",
       "      <td>0.383838</td>\n",
       "      <td>2.308642</td>\n",
       "      <td>29.699118</td>\n",
       "      <td>0.523008</td>\n",
       "      <td>0.381594</td>\n",
       "      <td>32.204208</td>\n",
       "    </tr>\n",
       "    <tr>\n",
       "      <th>std</th>\n",
       "      <td>257.353842</td>\n",
       "      <td>0.486592</td>\n",
       "      <td>0.836071</td>\n",
       "      <td>14.526497</td>\n",
       "      <td>1.102743</td>\n",
       "      <td>0.806057</td>\n",
       "      <td>49.693429</td>\n",
       "    </tr>\n",
       "    <tr>\n",
       "      <th>min</th>\n",
       "      <td>1.000000</td>\n",
       "      <td>0.000000</td>\n",
       "      <td>1.000000</td>\n",
       "      <td>0.420000</td>\n",
       "      <td>0.000000</td>\n",
       "      <td>0.000000</td>\n",
       "      <td>0.000000</td>\n",
       "    </tr>\n",
       "    <tr>\n",
       "      <th>25%</th>\n",
       "      <td>223.500000</td>\n",
       "      <td>0.000000</td>\n",
       "      <td>2.000000</td>\n",
       "      <td>20.125000</td>\n",
       "      <td>0.000000</td>\n",
       "      <td>0.000000</td>\n",
       "      <td>7.910400</td>\n",
       "    </tr>\n",
       "    <tr>\n",
       "      <th>50%</th>\n",
       "      <td>446.000000</td>\n",
       "      <td>0.000000</td>\n",
       "      <td>3.000000</td>\n",
       "      <td>28.000000</td>\n",
       "      <td>0.000000</td>\n",
       "      <td>0.000000</td>\n",
       "      <td>14.454200</td>\n",
       "    </tr>\n",
       "    <tr>\n",
       "      <th>75%</th>\n",
       "      <td>668.500000</td>\n",
       "      <td>1.000000</td>\n",
       "      <td>3.000000</td>\n",
       "      <td>38.000000</td>\n",
       "      <td>1.000000</td>\n",
       "      <td>0.000000</td>\n",
       "      <td>31.000000</td>\n",
       "    </tr>\n",
       "    <tr>\n",
       "      <th>max</th>\n",
       "      <td>891.000000</td>\n",
       "      <td>1.000000</td>\n",
       "      <td>3.000000</td>\n",
       "      <td>80.000000</td>\n",
       "      <td>8.000000</td>\n",
       "      <td>6.000000</td>\n",
       "      <td>512.329200</td>\n",
       "    </tr>\n",
       "  </tbody>\n",
       "</table>\n",
       "</div>"
      ],
      "text/plain": [
       "       PassengerId    Survived      Pclass         Age       SibSp  \\\n",
       "count   891.000000  891.000000  891.000000  714.000000  891.000000   \n",
       "mean    446.000000    0.383838    2.308642   29.699118    0.523008   \n",
       "std     257.353842    0.486592    0.836071   14.526497    1.102743   \n",
       "min       1.000000    0.000000    1.000000    0.420000    0.000000   \n",
       "25%     223.500000    0.000000    2.000000   20.125000    0.000000   \n",
       "50%     446.000000    0.000000    3.000000   28.000000    0.000000   \n",
       "75%     668.500000    1.000000    3.000000   38.000000    1.000000   \n",
       "max     891.000000    1.000000    3.000000   80.000000    8.000000   \n",
       "\n",
       "            Parch        Fare  \n",
       "count  891.000000  891.000000  \n",
       "mean     0.381594   32.204208  \n",
       "std      0.806057   49.693429  \n",
       "min      0.000000    0.000000  \n",
       "25%      0.000000    7.910400  \n",
       "50%      0.000000   14.454200  \n",
       "75%      0.000000   31.000000  \n",
       "max      6.000000  512.329200  "
      ]
     },
     "execution_count": 5,
     "metadata": {},
     "output_type": "execute_result"
    }
   ],
   "source": [
    "titanic.describe() # me muestra las medidas estadisticas"
   ]
  },
  {
   "cell_type": "code",
   "execution_count": 8,
   "id": "b0db643e-4b1a-40c5-b385-bf98dc1ba61f",
   "metadata": {},
   "outputs": [
    {
     "name": "stdout",
     "output_type": "stream",
     "text": [
      "   PassengerId  Survived  Pclass  \\\n",
      "0            1         0       3   \n",
      "1            2         1       1   \n",
      "2            3         1       3   \n",
      "3            4         1       1   \n",
      "4            5         0       3   \n",
      "\n",
      "                                                Name  Sex   Age  SibSp  Parch  \\\n",
      "0                            Braund, Mr. Owen Harris    1  22.0      1      0   \n",
      "1  Cumings, Mrs. John Bradley (Florence Briggs Th...    0  38.0      1      0   \n",
      "2                             Heikkinen, Miss. Laina    0  26.0      0      0   \n",
      "3       Futrelle, Mrs. Jacques Heath (Lily May Peel)    0  35.0      1      0   \n",
      "4                           Allen, Mr. William Henry    1  35.0      0      0   \n",
      "\n",
      "             Ticket     Fare Cabin Embarked  \n",
      "0         A/5 21171   7.2500   NaN        S  \n",
      "1          PC 17599  71.2833   C85        C  \n",
      "2  STON/O2. 3101282   7.9250   NaN        S  \n",
      "3            113803  53.1000  C123        S  \n",
      "4            373450   8.0500   NaN        S  \n"
     ]
    }
   ],
   "source": [
    "# transformamos algunas columnas\n",
    "# Utilizamos la función map() para asignar 1 a 'male' y 0 a 'female'\n",
    "titanic['Sex'] = titanic['Sex'].map({'male': 1, 'female': 0})\n",
    "# Mostramos los primeros registros del DataFrame para verificar el cambio\n",
    "print(titanic.head())"
   ]
  },
  {
   "cell_type": "code",
   "execution_count": 9,
   "id": "1b89e350-e7ec-412e-bfda-d48bdd4bd3bc",
   "metadata": {},
   "outputs": [
    {
     "data": {
      "text/html": [
       "<div>\n",
       "<style scoped>\n",
       "    .dataframe tbody tr th:only-of-type {\n",
       "        vertical-align: middle;\n",
       "    }\n",
       "\n",
       "    .dataframe tbody tr th {\n",
       "        vertical-align: top;\n",
       "    }\n",
       "\n",
       "    .dataframe thead th {\n",
       "        text-align: right;\n",
       "    }\n",
       "</style>\n",
       "<table border=\"1\" class=\"dataframe\">\n",
       "  <thead>\n",
       "    <tr style=\"text-align: right;\">\n",
       "      <th></th>\n",
       "      <th>PassengerId</th>\n",
       "      <th>Survived</th>\n",
       "      <th>Pclass</th>\n",
       "      <th>Name</th>\n",
       "      <th>Sex</th>\n",
       "      <th>Age</th>\n",
       "      <th>SibSp</th>\n",
       "      <th>Parch</th>\n",
       "      <th>Ticket</th>\n",
       "      <th>Fare</th>\n",
       "      <th>Cabin</th>\n",
       "      <th>Embarked</th>\n",
       "    </tr>\n",
       "  </thead>\n",
       "  <tbody>\n",
       "    <tr>\n",
       "      <th>0</th>\n",
       "      <td>1</td>\n",
       "      <td>0</td>\n",
       "      <td>3</td>\n",
       "      <td>Braund, Mr. Owen Harris</td>\n",
       "      <td>1</td>\n",
       "      <td>22.0</td>\n",
       "      <td>1</td>\n",
       "      <td>0</td>\n",
       "      <td>A/5 21171</td>\n",
       "      <td>7.2500</td>\n",
       "      <td>NaN</td>\n",
       "      <td>S</td>\n",
       "    </tr>\n",
       "    <tr>\n",
       "      <th>1</th>\n",
       "      <td>2</td>\n",
       "      <td>1</td>\n",
       "      <td>1</td>\n",
       "      <td>Cumings, Mrs. John Bradley (Florence Briggs Th...</td>\n",
       "      <td>0</td>\n",
       "      <td>38.0</td>\n",
       "      <td>1</td>\n",
       "      <td>0</td>\n",
       "      <td>PC 17599</td>\n",
       "      <td>71.2833</td>\n",
       "      <td>C85</td>\n",
       "      <td>C</td>\n",
       "    </tr>\n",
       "    <tr>\n",
       "      <th>2</th>\n",
       "      <td>3</td>\n",
       "      <td>1</td>\n",
       "      <td>3</td>\n",
       "      <td>Heikkinen, Miss. Laina</td>\n",
       "      <td>0</td>\n",
       "      <td>26.0</td>\n",
       "      <td>0</td>\n",
       "      <td>0</td>\n",
       "      <td>STON/O2. 3101282</td>\n",
       "      <td>7.9250</td>\n",
       "      <td>NaN</td>\n",
       "      <td>S</td>\n",
       "    </tr>\n",
       "    <tr>\n",
       "      <th>3</th>\n",
       "      <td>4</td>\n",
       "      <td>1</td>\n",
       "      <td>1</td>\n",
       "      <td>Futrelle, Mrs. Jacques Heath (Lily May Peel)</td>\n",
       "      <td>0</td>\n",
       "      <td>35.0</td>\n",
       "      <td>1</td>\n",
       "      <td>0</td>\n",
       "      <td>113803</td>\n",
       "      <td>53.1000</td>\n",
       "      <td>C123</td>\n",
       "      <td>S</td>\n",
       "    </tr>\n",
       "    <tr>\n",
       "      <th>4</th>\n",
       "      <td>5</td>\n",
       "      <td>0</td>\n",
       "      <td>3</td>\n",
       "      <td>Allen, Mr. William Henry</td>\n",
       "      <td>1</td>\n",
       "      <td>35.0</td>\n",
       "      <td>0</td>\n",
       "      <td>0</td>\n",
       "      <td>373450</td>\n",
       "      <td>8.0500</td>\n",
       "      <td>NaN</td>\n",
       "      <td>S</td>\n",
       "    </tr>\n",
       "  </tbody>\n",
       "</table>\n",
       "</div>"
      ],
      "text/plain": [
       "   PassengerId  Survived  Pclass  \\\n",
       "0            1         0       3   \n",
       "1            2         1       1   \n",
       "2            3         1       3   \n",
       "3            4         1       1   \n",
       "4            5         0       3   \n",
       "\n",
       "                                                Name  Sex   Age  SibSp  Parch  \\\n",
       "0                            Braund, Mr. Owen Harris    1  22.0      1      0   \n",
       "1  Cumings, Mrs. John Bradley (Florence Briggs Th...    0  38.0      1      0   \n",
       "2                             Heikkinen, Miss. Laina    0  26.0      0      0   \n",
       "3       Futrelle, Mrs. Jacques Heath (Lily May Peel)    0  35.0      1      0   \n",
       "4                           Allen, Mr. William Henry    1  35.0      0      0   \n",
       "\n",
       "             Ticket     Fare Cabin Embarked  \n",
       "0         A/5 21171   7.2500   NaN        S  \n",
       "1          PC 17599  71.2833   C85        C  \n",
       "2  STON/O2. 3101282   7.9250   NaN        S  \n",
       "3            113803  53.1000  C123        S  \n",
       "4            373450   8.0500   NaN        S  "
      ]
     },
     "execution_count": 9,
     "metadata": {},
     "output_type": "execute_result"
    }
   ],
   "source": [
    "titanic.head()"
   ]
  },
  {
   "cell_type": "code",
   "execution_count": 11,
   "id": "b6a8921e-7f5a-4b97-a316-56401e6bd56a",
   "metadata": {},
   "outputs": [
    {
     "data": {
      "image/png": "[encoded data removed]",
      "text/plain": [
       "<Figure size 1000x500 with 6 Axes>"
      ]
     },
     "metadata": {},
     "output_type": "display_data"
    }
   ],
   "source": [
    "# Identificacion de valores faltantes y atipicos\n",
    "#plt.figure(figsize=(6, 3))  #figura de 6*3\n",
    "fig, axs = plt.subplots(3,2, figsize = (10,5))\n",
    "#plt.title('Identificacion de datos faltantes y atipicos', fontsize=10 )\n",
    "plt3 = sns.boxplot(titanic['Age'], ax = axs[0,0]).set_title(\"age\")\n",
    "plt1 = sns.boxplot(titanic['Pclass'], ax = axs[0,1]).set_title(\"Pclass\")\n",
    "plt2 = sns.boxplot(titanic['Fare'], ax = axs[1,0]).set_title(\"Fare\")\n",
    "plt4 = sns.boxplot(titanic['Parch'], ax = axs[1,1]).set_title(\"Parch\")\n",
    "plt5 = sns.boxplot(titanic['Survived'], ax = axs[2,0]).set_title(\"Survived\")\n",
    "plt6 = sns.boxplot(titanic['Sex'], ax = axs[2,1]).set_title(\"Sex\")\n",
    "\n",
    "# Eliminar la subparcela no utilizada en la fila superior\n",
    "# axs[2, 1].remove()\n",
    "\n",
    "plt.tight_layout()"
   ]
  },
  {
   "cell_type": "markdown",
   "id": "733d08f8-53e5-42ca-8921-efadab13b22a",
   "metadata": {},
   "source": [
    "# 2.Preprocesar los datos limpiándolos, tratando valores faltantes y transformándolos según sea necesario. "
   ]
  },
  {
   "cell_type": "code",
   "execution_count": 30,
   "id": "dd8ee837-9442-4abc-bb71-ad9d88579b02",
   "metadata": {},
   "outputs": [
    {
     "name": "stdout",
     "output_type": "stream",
     "text": [
      "Columnas con valores NaN: ['Age', 'Cabin', 'Embarked']\n"
     ]
    }
   ],
   "source": [
    "columns_with_nan = titanic.columns[titanic.isna().any()].tolist()\n",
    "\n",
    "print(\"Columnas con valores NaN:\", columns_with_nan)"
   ]
  },
  {
   "cell_type": "code",
   "execution_count": 12,
   "id": "dfdea9cc-e35e-4439-8ecd-0289892ecd76",
   "metadata": {},
   "outputs": [
    {
     "data": {
      "text/plain": [
       "PassengerId      0\n",
       "Survived         0\n",
       "Pclass           0\n",
       "Name             0\n",
       "Sex              0\n",
       "Age            177\n",
       "SibSp            0\n",
       "Parch            0\n",
       "Ticket           0\n",
       "Fare             0\n",
       "Cabin          687\n",
       "Embarked         2\n",
       "dtype: int64"
      ]
     },
     "execution_count": 12,
     "metadata": {},
     "output_type": "execute_result"
    }
   ],
   "source": [
    "\n",
    "titanic.isna().sum()  #nos identifica si hay valores nulos"
   ]
  },
  {
   "cell_type": "code",
   "execution_count": 37,
   "id": "0fdbe102-c435-4218-a9e7-320aacad01f1",
   "metadata": {},
   "outputs": [],
   "source": [
    "# Usar fillna() con method='ffill' para rellenar los valores NaN con el valor de la fila anterior\n",
    "titanic['Age'] = titanic['Age'].ffill()\n",
    "#titanic['Cabin'] = titanic['Cabin'].ffill()\n",
    "#titanic['Embarket'] = titanic['Embarket'].ffill()"
   ]
  },
  {
   "cell_type": "code",
   "execution_count": 38,
   "id": "075c9183-d1bd-44c1-821c-a6bc2466cfcc",
   "metadata": {},
   "outputs": [
    {
     "name": "stdout",
     "output_type": "stream",
     "text": [
      "Cantidad de registros Nan en Age es de:  0\n"
     ]
    }
   ],
   "source": [
    "print(\"Cantidad de registros Nan en Age es de: \", titanic['Age'].isna().sum())\n",
    "#print(\"Cantidad de registros Nan en Cabin es de: \", titanic['Cabin'].isna().sum())\n",
    "#print(\"Cantidad de registros Nan en Embarket es de: \", titanic['Embarket'].isna().sum())"
   ]
  },
  {
   "cell_type": "markdown",
   "id": "b029cda4-8bb3-4e67-9bfa-59ee3132ef9e",
   "metadata": {},
   "source": [
    "# 3.Seleccionar las características más relevantes para entrenar el modelo utilizando selección de características."
   ]
  },
  {
   "cell_type": "code",
   "execution_count": 39,
   "id": "b2879806-5709-4683-92a4-26bc74409477",
   "metadata": {},
   "outputs": [
    {
     "data": {
      "text/plain": [
       "(array([549.,   0.,   0.,   0.,   0.,   0.,   0.,   0.,   0., 342.]),\n",
       " array([0. , 0.1, 0.2, 0.3, 0.4, 0.5, 0.6, 0.7, 0.8, 0.9, 1. ]),\n",
       " <BarContainer object of 10 artists>)"
      ]
     },
     "execution_count": 39,
     "metadata": {},
     "output_type": "execute_result"
    },
    {
     "data": {
      "image/png": "[encoded data removed]",
      "text/plain": [
       "<Figure size 640x480 with 1 Axes>"
      ]
     },
     "metadata": {},
     "output_type": "display_data"
    }
   ],
   "source": [
    "plt.hist(titanic.Survived) # nos muestra los tipos de Sobrevividos, 1--> vivos, 0 --> muertos. "
   ]
  },
  {
   "cell_type": "code",
   "execution_count": 40,
   "id": "59a02897-e282-4411-adc7-314fa9c9b0c4",
   "metadata": {},
   "outputs": [],
   "source": [
    "# nos muestra que murireon alrededor de 600 personas, y vivieron alrededor de 350 personas. "
   ]
  },
  {
   "cell_type": "code",
   "execution_count": 41,
   "id": "5f1cd467-ba6b-4c4f-872f-de56a3abb0db",
   "metadata": {},
   "outputs": [
    {
     "data": {
      "text/plain": [
       "(array([314.,   0.,   0.,   0.,   0.,   0.,   0.,   0.,   0., 577.]),\n",
       " array([0. , 0.1, 0.2, 0.3, 0.4, 0.5, 0.6, 0.7, 0.8, 0.9, 1. ]),\n",
       " <BarContainer object of 10 artists>)"
      ]
     },
     "execution_count": 41,
     "metadata": {},
     "output_type": "execute_result"
    },
    {
     "data": {
      "image/png": "[encoded data removed]",
      "text/plain": [
       "<Figure size 640x480 with 1 Axes>"
      ]
     },
     "metadata": {},
     "output_type": "display_data"
    }
   ],
   "source": [
    "plt.hist(titanic.Sex) # nos muestra los tipos de sexo"
   ]
  },
  {
   "cell_type": "code",
   "execution_count": 42,
   "id": "150d5cbf-d9c5-4dac-86e0-b23d826fcaf0",
   "metadata": {},
   "outputs": [],
   "source": [
    "# nos muestra que hay casi 600 hombres y alrededor de 300 mujeres. "
   ]
  },
  {
   "cell_type": "code",
   "execution_count": 43,
   "id": "ad73284a-7764-4c28-928b-0ade1ee136ad",
   "metadata": {},
   "outputs": [
    {
     "data": {
      "text/plain": [
       "<Axes: xlabel='Sex', ylabel='Age'>"
      ]
     },
     "execution_count": 43,
     "metadata": {},
     "output_type": "execute_result"
    },
    {
     "data": {
      "image/png": "[encoded data removed]",
      "text/plain": [
       "<Figure size 640x480 with 1 Axes>"
      ]
     },
     "metadata": {},
     "output_type": "display_data"
    }
   ],
   "source": [
    "sns.scatterplot(x = \"Sex\", y = \"Age\", hue= \"Survived\", data = titanic)"
   ]
  },
  {
   "cell_type": "code",
   "execution_count": 44,
   "id": "8411a04d-2cde-4a69-b3da-2c3c3bbf2308",
   "metadata": {},
   "outputs": [],
   "source": [
    "# podemos apreciar que muchos hombres alrededor de 15 a 75 años murieron\n",
    "# muchas mujeres de 15 a 65 años sobrevivieron. "
   ]
  },
  {
   "cell_type": "code",
   "execution_count": 45,
   "id": "7dae32ce-923e-4331-ba06-56d75a61edbe",
   "metadata": {},
   "outputs": [
    {
     "data": {
      "text/plain": [
       "<Axes: xlabel='Pclass', ylabel='Age'>"
      ]
     },
     "execution_count": 45,
     "metadata": {},
     "output_type": "execute_result"
    },
    {
     "data": {
      "image/png": "[encoded data removed]",
      "text/plain": [
       "<Figure size 640x480 with 1 Axes>"
      ]
     },
     "metadata": {},
     "output_type": "display_data"
    }
   ],
   "source": [
    "sns.scatterplot(x = \"Pclass\", y = \"Age\", hue= \"Survived\", data = titanic)"
   ]
  },
  {
   "cell_type": "code",
   "execution_count": 75,
   "id": "59065ad9-45c9-486d-a6dc-d4e5bfb2c9e5",
   "metadata": {},
   "outputs": [
    {
     "data": {
      "text/plain": [
       "<Axes: xlabel='Pclass', ylabel='Sex'>"
      ]
     },
     "execution_count": 75,
     "metadata": {},
     "output_type": "execute_result"
    },
    {
     "data": {
      "image/png": "[encoded data removed]",
      "text/plain": [
       "<Figure size 640x480 with 1 Axes>"
      ]
     },
     "metadata": {},
     "output_type": "display_data"
    }
   ],
   "source": [
    "sns.scatterplot(x = \"Pclass\", y = \"Sex\", hue= \"Survived\", data = titanic)"
   ]
  },
  {
   "cell_type": "code",
   "execution_count": null,
   "id": "68765024-6c55-4246-ba25-44560667e0a8",
   "metadata": {},
   "outputs": [],
   "source": [
    "# tambien podemos apreciar muchos, tanto hombres como mujeres lograron vivir que tenian la clase 1. vemos que con la clase 2 vivieron mas la mujeres.\n",
    "# Con la clase 3 vemos que tanto hombres commo mujeres no sobrevivieron. "
   ]
  },
  {
   "cell_type": "markdown",
   "id": "90d87866-72e4-4be5-ac83-17f42918442a",
   "metadata": {},
   "source": [
    "# 4. Dividir el dataset en Train y Test para evaluar correctamente el modelo."
   ]
  },
  {
   "cell_type": "code",
   "execution_count": 46,
   "id": "b7f184fc-bdd2-471b-ba05-df44de0b2b67",
   "metadata": {},
   "outputs": [],
   "source": [
    "predictors_col = [\"Pclass\", \"Age\",\"Sex\", \"SibSp\",\"Parch\",\"Fare\"]\n",
    "target_col = ['Survived']"
   ]
  },
  {
   "cell_type": "code",
   "execution_count": 47,
   "id": "e42e59f8-1382-496e-b62a-de9488138225",
   "metadata": {},
   "outputs": [],
   "source": [
    "predictors = titanic[predictors_col]\n",
    "target = titanic[target_col]"
   ]
  },
  {
   "cell_type": "code",
   "execution_count": 48,
   "id": "b3f6777a-9537-46c2-9c99-f7a8a862bd2b",
   "metadata": {},
   "outputs": [
    {
     "data": {
      "text/html": [
       "<div>\n",
       "<style scoped>\n",
       "    .dataframe tbody tr th:only-of-type {\n",
       "        vertical-align: middle;\n",
       "    }\n",
       "\n",
       "    .dataframe tbody tr th {\n",
       "        vertical-align: top;\n",
       "    }\n",
       "\n",
       "    .dataframe thead th {\n",
       "        text-align: right;\n",
       "    }\n",
       "</style>\n",
       "<table border=\"1\" class=\"dataframe\">\n",
       "  <thead>\n",
       "    <tr style=\"text-align: right;\">\n",
       "      <th></th>\n",
       "      <th>Pclass</th>\n",
       "      <th>Age</th>\n",
       "      <th>Sex</th>\n",
       "      <th>SibSp</th>\n",
       "      <th>Parch</th>\n",
       "      <th>Fare</th>\n",
       "    </tr>\n",
       "  </thead>\n",
       "  <tbody>\n",
       "    <tr>\n",
       "      <th>0</th>\n",
       "      <td>3</td>\n",
       "      <td>22.0</td>\n",
       "      <td>1</td>\n",
       "      <td>1</td>\n",
       "      <td>0</td>\n",
       "      <td>7.2500</td>\n",
       "    </tr>\n",
       "    <tr>\n",
       "      <th>1</th>\n",
       "      <td>1</td>\n",
       "      <td>38.0</td>\n",
       "      <td>0</td>\n",
       "      <td>1</td>\n",
       "      <td>0</td>\n",
       "      <td>71.2833</td>\n",
       "    </tr>\n",
       "    <tr>\n",
       "      <th>2</th>\n",
       "      <td>3</td>\n",
       "      <td>26.0</td>\n",
       "      <td>0</td>\n",
       "      <td>0</td>\n",
       "      <td>0</td>\n",
       "      <td>7.9250</td>\n",
       "    </tr>\n",
       "    <tr>\n",
       "      <th>3</th>\n",
       "      <td>1</td>\n",
       "      <td>35.0</td>\n",
       "      <td>0</td>\n",
       "      <td>1</td>\n",
       "      <td>0</td>\n",
       "      <td>53.1000</td>\n",
       "    </tr>\n",
       "    <tr>\n",
       "      <th>4</th>\n",
       "      <td>3</td>\n",
       "      <td>35.0</td>\n",
       "      <td>1</td>\n",
       "      <td>0</td>\n",
       "      <td>0</td>\n",
       "      <td>8.0500</td>\n",
       "    </tr>\n",
       "    <tr>\n",
       "      <th>...</th>\n",
       "      <td>...</td>\n",
       "      <td>...</td>\n",
       "      <td>...</td>\n",
       "      <td>...</td>\n",
       "      <td>...</td>\n",
       "      <td>...</td>\n",
       "    </tr>\n",
       "    <tr>\n",
       "      <th>886</th>\n",
       "      <td>2</td>\n",
       "      <td>27.0</td>\n",
       "      <td>1</td>\n",
       "      <td>0</td>\n",
       "      <td>0</td>\n",
       "      <td>13.0000</td>\n",
       "    </tr>\n",
       "    <tr>\n",
       "      <th>887</th>\n",
       "      <td>1</td>\n",
       "      <td>19.0</td>\n",
       "      <td>0</td>\n",
       "      <td>0</td>\n",
       "      <td>0</td>\n",
       "      <td>30.0000</td>\n",
       "    </tr>\n",
       "    <tr>\n",
       "      <th>888</th>\n",
       "      <td>3</td>\n",
       "      <td>19.0</td>\n",
       "      <td>0</td>\n",
       "      <td>1</td>\n",
       "      <td>2</td>\n",
       "      <td>23.4500</td>\n",
       "    </tr>\n",
       "    <tr>\n",
       "      <th>889</th>\n",
       "      <td>1</td>\n",
       "      <td>26.0</td>\n",
       "      <td>1</td>\n",
       "      <td>0</td>\n",
       "      <td>0</td>\n",
       "      <td>30.0000</td>\n",
       "    </tr>\n",
       "    <tr>\n",
       "      <th>890</th>\n",
       "      <td>3</td>\n",
       "      <td>32.0</td>\n",
       "      <td>1</td>\n",
       "      <td>0</td>\n",
       "      <td>0</td>\n",
       "      <td>7.7500</td>\n",
       "    </tr>\n",
       "  </tbody>\n",
       "</table>\n",
       "<p>891 rows × 6 columns</p>\n",
       "</div>"
      ],
      "text/plain": [
       "     Pclass   Age  Sex  SibSp  Parch     Fare\n",
       "0         3  22.0    1      1      0   7.2500\n",
       "1         1  38.0    0      1      0  71.2833\n",
       "2         3  26.0    0      0      0   7.9250\n",
       "3         1  35.0    0      1      0  53.1000\n",
       "4         3  35.0    1      0      0   8.0500\n",
       "..      ...   ...  ...    ...    ...      ...\n",
       "886       2  27.0    1      0      0  13.0000\n",
       "887       1  19.0    0      0      0  30.0000\n",
       "888       3  19.0    0      1      2  23.4500\n",
       "889       1  26.0    1      0      0  30.0000\n",
       "890       3  32.0    1      0      0   7.7500\n",
       "\n",
       "[891 rows x 6 columns]"
      ]
     },
     "execution_count": 48,
     "metadata": {},
     "output_type": "execute_result"
    }
   ],
   "source": [
    "\n",
    "predictors"
   ]
  },
  {
   "cell_type": "code",
   "execution_count": 49,
   "id": "528ee7c3-1e24-42ad-b36d-81f56b91b38a",
   "metadata": {},
   "outputs": [
    {
     "data": {
      "text/html": [
       "<div>\n",
       "<style scoped>\n",
       "    .dataframe tbody tr th:only-of-type {\n",
       "        vertical-align: middle;\n",
       "    }\n",
       "\n",
       "    .dataframe tbody tr th {\n",
       "        vertical-align: top;\n",
       "    }\n",
       "\n",
       "    .dataframe thead th {\n",
       "        text-align: right;\n",
       "    }\n",
       "</style>\n",
       "<table border=\"1\" class=\"dataframe\">\n",
       "  <thead>\n",
       "    <tr style=\"text-align: right;\">\n",
       "      <th></th>\n",
       "      <th>Survived</th>\n",
       "    </tr>\n",
       "  </thead>\n",
       "  <tbody>\n",
       "    <tr>\n",
       "      <th>0</th>\n",
       "      <td>0</td>\n",
       "    </tr>\n",
       "    <tr>\n",
       "      <th>1</th>\n",
       "      <td>1</td>\n",
       "    </tr>\n",
       "    <tr>\n",
       "      <th>2</th>\n",
       "      <td>1</td>\n",
       "    </tr>\n",
       "    <tr>\n",
       "      <th>3</th>\n",
       "      <td>1</td>\n",
       "    </tr>\n",
       "    <tr>\n",
       "      <th>4</th>\n",
       "      <td>0</td>\n",
       "    </tr>\n",
       "    <tr>\n",
       "      <th>...</th>\n",
       "      <td>...</td>\n",
       "    </tr>\n",
       "    <tr>\n",
       "      <th>886</th>\n",
       "      <td>0</td>\n",
       "    </tr>\n",
       "    <tr>\n",
       "      <th>887</th>\n",
       "      <td>1</td>\n",
       "    </tr>\n",
       "    <tr>\n",
       "      <th>888</th>\n",
       "      <td>0</td>\n",
       "    </tr>\n",
       "    <tr>\n",
       "      <th>889</th>\n",
       "      <td>1</td>\n",
       "    </tr>\n",
       "    <tr>\n",
       "      <th>890</th>\n",
       "      <td>0</td>\n",
       "    </tr>\n",
       "  </tbody>\n",
       "</table>\n",
       "<p>891 rows × 1 columns</p>\n",
       "</div>"
      ],
      "text/plain": [
       "     Survived\n",
       "0           0\n",
       "1           1\n",
       "2           1\n",
       "3           1\n",
       "4           0\n",
       "..        ...\n",
       "886         0\n",
       "887         1\n",
       "888         0\n",
       "889         1\n",
       "890         0\n",
       "\n",
       "[891 rows x 1 columns]"
      ]
     },
     "execution_count": 49,
     "metadata": {},
     "output_type": "execute_result"
    }
   ],
   "source": [
    "target"
   ]
  },
  {
   "cell_type": "code",
   "execution_count": 50,
   "id": "4e3a4c0a-0f08-4cf5-a0a0-7548c3d5d2de",
   "metadata": {},
   "outputs": [
    {
     "data": {
      "text/html": [
       "<div>\n",
       "<style scoped>\n",
       "    .dataframe tbody tr th:only-of-type {\n",
       "        vertical-align: middle;\n",
       "    }\n",
       "\n",
       "    .dataframe tbody tr th {\n",
       "        vertical-align: top;\n",
       "    }\n",
       "\n",
       "    .dataframe thead th {\n",
       "        text-align: right;\n",
       "    }\n",
       "</style>\n",
       "<table border=\"1\" class=\"dataframe\">\n",
       "  <thead>\n",
       "    <tr style=\"text-align: right;\">\n",
       "      <th></th>\n",
       "      <th>Pclass</th>\n",
       "      <th>Age</th>\n",
       "      <th>Sex</th>\n",
       "      <th>SibSp</th>\n",
       "      <th>Parch</th>\n",
       "      <th>Fare</th>\n",
       "    </tr>\n",
       "  </thead>\n",
       "  <tbody>\n",
       "    <tr>\n",
       "      <th>Pclass</th>\n",
       "      <td>1.000000</td>\n",
       "      <td>-0.291157</td>\n",
       "      <td>0.131900</td>\n",
       "      <td>0.083081</td>\n",
       "      <td>0.018443</td>\n",
       "      <td>-0.549500</td>\n",
       "    </tr>\n",
       "    <tr>\n",
       "      <th>Age</th>\n",
       "      <td>-0.291157</td>\n",
       "      <td>1.000000</td>\n",
       "      <td>0.058415</td>\n",
       "      <td>-0.206104</td>\n",
       "      <td>-0.165191</td>\n",
       "      <td>0.083417</td>\n",
       "    </tr>\n",
       "    <tr>\n",
       "      <th>Sex</th>\n",
       "      <td>0.131900</td>\n",
       "      <td>0.058415</td>\n",
       "      <td>1.000000</td>\n",
       "      <td>-0.114631</td>\n",
       "      <td>-0.245489</td>\n",
       "      <td>-0.182333</td>\n",
       "    </tr>\n",
       "    <tr>\n",
       "      <th>SibSp</th>\n",
       "      <td>0.083081</td>\n",
       "      <td>-0.206104</td>\n",
       "      <td>-0.114631</td>\n",
       "      <td>1.000000</td>\n",
       "      <td>0.414838</td>\n",
       "      <td>0.159651</td>\n",
       "    </tr>\n",
       "    <tr>\n",
       "      <th>Parch</th>\n",
       "      <td>0.018443</td>\n",
       "      <td>-0.165191</td>\n",
       "      <td>-0.245489</td>\n",
       "      <td>0.414838</td>\n",
       "      <td>1.000000</td>\n",
       "      <td>0.216225</td>\n",
       "    </tr>\n",
       "    <tr>\n",
       "      <th>Fare</th>\n",
       "      <td>-0.549500</td>\n",
       "      <td>0.083417</td>\n",
       "      <td>-0.182333</td>\n",
       "      <td>0.159651</td>\n",
       "      <td>0.216225</td>\n",
       "      <td>1.000000</td>\n",
       "    </tr>\n",
       "  </tbody>\n",
       "</table>\n",
       "</div>"
      ],
      "text/plain": [
       "          Pclass       Age       Sex     SibSp     Parch      Fare\n",
       "Pclass  1.000000 -0.291157  0.131900  0.083081  0.018443 -0.549500\n",
       "Age    -0.291157  1.000000  0.058415 -0.206104 -0.165191  0.083417\n",
       "Sex     0.131900  0.058415  1.000000 -0.114631 -0.245489 -0.182333\n",
       "SibSp   0.083081 -0.206104 -0.114631  1.000000  0.414838  0.159651\n",
       "Parch   0.018443 -0.165191 -0.245489  0.414838  1.000000  0.216225\n",
       "Fare   -0.549500  0.083417 -0.182333  0.159651  0.216225  1.000000"
      ]
     },
     "execution_count": 50,
     "metadata": {},
     "output_type": "execute_result"
    }
   ],
   "source": [
    "corr = predictors.corr()  # halla la correlacion entre las variabls predictoras\n",
    "corr\n",
    "# cercanoa a 1, alta correlacion directa\n",
    "#cercanos a -1 , alta correlacion inversa\n",
    "# cercano a 0, baja o nula correlacion"
   ]
  },
  {
   "cell_type": "code",
   "execution_count": 51,
   "id": "50bc8222-3e45-4d67-8b05-2078661b7c62",
   "metadata": {},
   "outputs": [
    {
     "data": {
      "image/png": "[encoded data removed]",
      "text/plain": [
       "<Figure size 640x480 with 2 Axes>"
      ]
     },
     "metadata": {},
     "output_type": "display_data"
    }
   ],
   "source": [
    "# mapa de calor\n",
    "sns.heatmap(corr)\n",
    "plt.show()"
   ]
  },
  {
   "cell_type": "code",
   "execution_count": 66,
   "id": "5302d9a1-1dce-40f4-9dd2-7e6f2f8ca779",
   "metadata": {},
   "outputs": [],
   "source": [
    "x_train, x_test, y_train, y_test = train_test_split(predictors, target, test_size=0.30, random_state= 12)"
   ]
  },
  {
   "cell_type": "markdown",
   "id": "0a968655-f907-4d83-b1a1-e21bf04955bd",
   "metadata": {},
   "source": [
    "# 5. Entrenar el modelo configurando los diferentes hiperparametros"
   ]
  },
  {
   "cell_type": "code",
   "execution_count": 67,
   "id": "587ee6cd-522e-4ae8-8415-d78ebf921816",
   "metadata": {},
   "outputs": [],
   "source": [
    "\n",
    "tree = DecisionTreeClassifier(max_depth=10)  # me crea el arbol"
   ]
  },
  {
   "cell_type": "code",
   "execution_count": 68,
   "id": "8852e8ca-09c0-4681-8548-7dded6923879",
   "metadata": {},
   "outputs": [],
   "source": [
    "arbol = tree.fit(x_train, y_train)  # empiezo a entrenar el arbol"
   ]
  },
  {
   "cell_type": "markdown",
   "id": "e844f449-e0e8-469e-85d3-ade30e1281de",
   "metadata": {},
   "source": [
    "-- crear arbol de decision "
   ]
  },
  {
   "cell_type": "code",
   "execution_count": 69,
   "id": "be720e56-8115-4f41-8e6b-b0860417bac8",
   "metadata": {},
   "outputs": [],
   "source": [
    "predicciones = arbol.predict(x_test)"
   ]
  },
  {
   "cell_type": "code",
   "execution_count": 70,
   "id": "0c084d24-3cf8-46d3-9e69-fa1106578391",
   "metadata": {},
   "outputs": [
    {
     "data": {
      "text/plain": [
       "array([0, 0, 0, 0, 0, 0, 1, 0, 0, 0, 0, 0, 0, 1, 1, 0, 0, 1, 0, 0, 0, 0,\n",
       "       0, 0, 1, 0, 1, 1, 0, 1, 0, 0, 1, 0, 0, 1, 0, 0, 0, 1, 0, 0, 1, 0,\n",
       "       0, 0, 1, 1, 0, 0, 0, 1, 1, 1, 0, 0, 0, 1, 1, 0, 0, 0, 1, 0, 0, 1,\n",
       "       0, 1, 0, 0, 0, 0, 0, 1, 1, 1, 0, 0, 1, 0, 1, 1, 1, 1, 0, 0, 1, 0,\n",
       "       0, 1, 0, 1, 1, 0, 0, 0, 1, 1, 1, 0, 0, 0, 1, 0, 0, 0, 0, 0, 1, 1,\n",
       "       1, 0, 0, 0, 1, 1, 1, 0, 0, 0, 0, 0, 1, 0, 1, 1, 1, 1, 1, 1, 0, 1,\n",
       "       0, 0, 0, 1, 0, 1, 0, 0, 0, 1, 0, 0, 1, 1, 0, 1, 1, 0, 0, 1, 0, 1,\n",
       "       0, 0, 0, 0, 0, 0, 0, 0, 0, 0, 1, 1, 1, 0, 1, 0, 0, 0, 0, 0, 0, 0,\n",
       "       0, 0, 1, 0, 0, 0, 0, 0, 0, 0, 0, 1, 1, 1, 0, 1, 0, 0, 1, 0, 1, 0,\n",
       "       0, 1, 1, 0, 0, 0, 0, 1, 0, 0, 1, 0, 0, 0, 0, 0, 1, 1, 0, 0, 1, 1,\n",
       "       0, 0, 0, 0, 0, 0, 0, 0, 0, 1, 0, 0, 1, 0, 0, 1, 0, 0, 0, 1, 1, 0,\n",
       "       1, 0, 0, 0, 0, 0, 0, 0, 1, 0, 1, 1, 0, 0, 0, 0, 0, 1, 1, 0, 1, 0,\n",
       "       0, 1, 0, 1], dtype=int64)"
      ]
     },
     "execution_count": 70,
     "metadata": {},
     "output_type": "execute_result"
    }
   ],
   "source": [
    "predicciones"
   ]
  },
  {
   "cell_type": "markdown",
   "id": "37b0aa7d-ca64-4846-830f-5e349e74d0e1",
   "metadata": {},
   "source": [
    "# 6. Evaluar el desempeño del modelo en el conjunto de Test con métricas como precisión, recall, F1-score, etc."
   ]
  },
  {
   "cell_type": "code",
   "execution_count": 71,
   "id": "910e4f10-e94f-4ebe-b41f-65c97b1031ef",
   "metadata": {},
   "outputs": [
    {
     "data": {
      "text/html": [
       "<div>\n",
       "<style scoped>\n",
       "    .dataframe tbody tr th:only-of-type {\n",
       "        vertical-align: middle;\n",
       "    }\n",
       "\n",
       "    .dataframe tbody tr th {\n",
       "        vertical-align: top;\n",
       "    }\n",
       "\n",
       "    .dataframe thead th {\n",
       "        text-align: right;\n",
       "    }\n",
       "</style>\n",
       "<table border=\"1\" class=\"dataframe\">\n",
       "  <thead>\n",
       "    <tr style=\"text-align: right;\">\n",
       "      <th>Predicciones</th>\n",
       "      <th>0</th>\n",
       "      <th>1</th>\n",
       "    </tr>\n",
       "    <tr>\n",
       "      <th>Actual</th>\n",
       "      <th></th>\n",
       "      <th></th>\n",
       "    </tr>\n",
       "  </thead>\n",
       "  <tbody>\n",
       "    <tr>\n",
       "      <th>0</th>\n",
       "      <td>137</td>\n",
       "      <td>24</td>\n",
       "    </tr>\n",
       "    <tr>\n",
       "      <th>1</th>\n",
       "      <td>37</td>\n",
       "      <td>70</td>\n",
       "    </tr>\n",
       "  </tbody>\n",
       "</table>\n",
       "</div>"
      ],
      "text/plain": [
       "Predicciones    0   1\n",
       "Actual               \n",
       "0             137  24\n",
       "1              37  70"
      ]
     },
     "execution_count": 71,
     "metadata": {},
     "output_type": "execute_result"
    }
   ],
   "source": [
    "# Examina la matriz de confusion\n",
    "pd.crosstab(np.array([y[0] for y in y_test.values.tolist()]), predicciones, rownames=['Actual'], colnames=['Predicciones'])"
   ]
  },
  {
   "cell_type": "code",
   "execution_count": 72,
   "id": "ff3a7e66-3c66-4940-84b8-c3bf823cf8ce",
   "metadata": {},
   "outputs": [
    {
     "name": "stdout",
     "output_type": "stream",
     "text": [
      "Precision del modelo: 0.7723880597014925\n"
     ]
    }
   ],
   "source": [
    "accuracy = accuracy_score(y_test, predicciones)\n",
    "print(\"Precision del modelo:\", accuracy)"
   ]
  },
  {
   "cell_type": "markdown",
   "id": "b09afb50-f915-413c-b209-7d33574d72b5",
   "metadata": {},
   "source": [
    "* si aumentamos los datos de test al 30 % nos da una precision de 0.77\n",
    "* con 20 % de prueba nos da una precison de 0.71\n",
    "* con un 25 % de prueba nos da 0.76 de precision"
   ]
  },
  {
   "cell_type": "markdown",
   "id": "f2f1856f-eefa-4123-8fc9-bfcb4a859275",
   "metadata": {},
   "source": [
    "# 7. Realizar las diferentes gráficas que permitan visualizar los resultados del modelo."
   ]
  },
  {
   "cell_type": "code",
   "execution_count": 73,
   "id": "03a60517-39d6-496d-8be7-bb214fbca24d",
   "metadata": {},
   "outputs": [
    {
     "data": {
      "text/plain": [
       "[Text(0.41049592391304346, 0.9545454545454546, 'x[2] <= 0.5\\ngini = 0.47\\nsamples = 623\\nvalue = [388, 235]'),\n",
       " Text(0.1565896739130435, 0.8636363636363636, 'x[0] <= 2.5\\ngini = 0.37\\nsamples = 216\\nvalue = [53, 163]'),\n",
       " Text(0.059782608695652176, 0.7727272727272727, 'x[1] <= 2.5\\ngini = 0.077\\nsamples = 124\\nvalue = [5, 119]'),\n",
       " Text(0.03260869565217391, 0.6818181818181818, 'x[4] <= 1.5\\ngini = 0.444\\nsamples = 3\\nvalue = [1, 2]'),\n",
       " Text(0.021739130434782608, 0.5909090909090909, 'gini = 0.0\\nsamples = 2\\nvalue = [0, 2]'),\n",
       " Text(0.043478260869565216, 0.5909090909090909, 'gini = 0.0\\nsamples = 1\\nvalue = [1, 0]'),\n",
       " Text(0.08695652173913043, 0.6818181818181818, 'x[1] <= 56.5\\ngini = 0.064\\nsamples = 121\\nvalue = [4, 117]'),\n",
       " Text(0.06521739130434782, 0.5909090909090909, 'x[1] <= 27.0\\ngini = 0.05\\nsamples = 118\\nvalue = [3, 115]'),\n",
       " Text(0.05434782608695652, 0.5, 'x[1] <= 24.5\\ngini = 0.113\\nsamples = 50\\nvalue = [3, 47]'),\n",
       " Text(0.03260869565217391, 0.4090909090909091, 'x[5] <= 13.396\\ngini = 0.043\\nsamples = 45\\nvalue = [1, 44]'),\n",
       " Text(0.021739130434782608, 0.3181818181818182, 'x[1] <= 21.5\\ngini = 0.278\\nsamples = 6\\nvalue = [1, 5]'),\n",
       " Text(0.010869565217391304, 0.22727272727272727, 'gini = 0.0\\nsamples = 4\\nvalue = [0, 4]'),\n",
       " Text(0.03260869565217391, 0.22727272727272727, 'gini = 0.5\\nsamples = 2\\nvalue = [1, 1]'),\n",
       " Text(0.043478260869565216, 0.3181818181818182, 'gini = 0.0\\nsamples = 39\\nvalue = [0, 39]'),\n",
       " Text(0.07608695652173914, 0.4090909090909091, 'x[3] <= 0.5\\ngini = 0.48\\nsamples = 5\\nvalue = [2, 3]'),\n",
       " Text(0.06521739130434782, 0.3181818181818182, 'gini = 0.0\\nsamples = 2\\nvalue = [0, 2]'),\n",
       " Text(0.08695652173913043, 0.3181818181818182, 'x[4] <= 1.5\\ngini = 0.444\\nsamples = 3\\nvalue = [2, 1]'),\n",
       " Text(0.07608695652173914, 0.22727272727272727, 'x[1] <= 25.5\\ngini = 0.5\\nsamples = 2\\nvalue = [1, 1]'),\n",
       " Text(0.06521739130434782, 0.13636363636363635, 'gini = 0.0\\nsamples = 1\\nvalue = [0, 1]'),\n",
       " Text(0.08695652173913043, 0.13636363636363635, 'gini = 0.0\\nsamples = 1\\nvalue = [1, 0]'),\n",
       " Text(0.09782608695652174, 0.22727272727272727, 'gini = 0.0\\nsamples = 1\\nvalue = [1, 0]'),\n",
       " Text(0.07608695652173914, 0.5, 'gini = 0.0\\nsamples = 68\\nvalue = [0, 68]'),\n",
       " Text(0.10869565217391304, 0.5909090909090909, 'x[0] <= 1.5\\ngini = 0.444\\nsamples = 3\\nvalue = [1, 2]'),\n",
       " Text(0.09782608695652174, 0.5, 'gini = 0.0\\nsamples = 2\\nvalue = [0, 2]'),\n",
       " Text(0.11956521739130435, 0.5, 'gini = 0.0\\nsamples = 1\\nvalue = [1, 0]'),\n",
       " Text(0.25339673913043476, 0.7727272727272727, 'x[5] <= 7.888\\ngini = 0.499\\nsamples = 92\\nvalue = [48, 44]'),\n",
       " Text(0.14130434782608695, 0.6818181818181818, 'x[5] <= 6.987\\ngini = 0.375\\nsamples = 28\\nvalue = [7, 21]'),\n",
       " Text(0.13043478260869565, 0.5909090909090909, 'gini = 0.0\\nsamples = 1\\nvalue = [1, 0]'),\n",
       " Text(0.15217391304347827, 0.5909090909090909, 'x[1] <= 20.0\\ngini = 0.346\\nsamples = 27\\nvalue = [6, 21]'),\n",
       " Text(0.14130434782608695, 0.5, 'gini = 0.0\\nsamples = 8\\nvalue = [0, 8]'),\n",
       " Text(0.16304347826086957, 0.5, 'x[1] <= 21.5\\ngini = 0.432\\nsamples = 19\\nvalue = [6, 13]'),\n",
       " Text(0.14130434782608695, 0.4090909090909091, 'x[5] <= 7.79\\ngini = 0.444\\nsamples = 3\\nvalue = [2, 1]'),\n",
       " Text(0.13043478260869565, 0.3181818181818182, 'gini = 0.0\\nsamples = 2\\nvalue = [2, 0]'),\n",
       " Text(0.15217391304347827, 0.3181818181818182, 'gini = 0.0\\nsamples = 1\\nvalue = [0, 1]'),\n",
       " Text(0.18478260869565216, 0.4090909090909091, 'x[5] <= 7.744\\ngini = 0.375\\nsamples = 16\\nvalue = [4, 12]'),\n",
       " Text(0.17391304347826086, 0.3181818181818182, 'gini = 0.0\\nsamples = 4\\nvalue = [0, 4]'),\n",
       " Text(0.1956521739130435, 0.3181818181818182, 'x[5] <= 7.781\\ngini = 0.444\\nsamples = 12\\nvalue = [4, 8]'),\n",
       " Text(0.18478260869565216, 0.22727272727272727, 'x[1] <= 23.5\\ngini = 0.48\\nsamples = 10\\nvalue = [4, 6]'),\n",
       " Text(0.17391304347826086, 0.13636363636363635, 'gini = 0.0\\nsamples = 2\\nvalue = [0, 2]'),\n",
       " Text(0.1956521739130435, 0.13636363636363635, 'x[1] <= 35.25\\ngini = 0.5\\nsamples = 8\\nvalue = [4, 4]'),\n",
       " Text(0.18478260869565216, 0.045454545454545456, 'gini = 0.0\\nsamples = 2\\nvalue = [2, 0]'),\n",
       " Text(0.20652173913043478, 0.045454545454545456, 'gini = 0.444\\nsamples = 6\\nvalue = [2, 4]'),\n",
       " Text(0.20652173913043478, 0.22727272727272727, 'gini = 0.0\\nsamples = 2\\nvalue = [0, 2]'),\n",
       " Text(0.3654891304347826, 0.6818181818181818, 'x[5] <= 24.808\\ngini = 0.46\\nsamples = 64\\nvalue = [41, 23]'),\n",
       " Text(0.3233695652173913, 0.5909090909090909, 'x[5] <= 14.873\\ngini = 0.49\\nsamples = 49\\nvalue = [28, 21]'),\n",
       " Text(0.2717391304347826, 0.5, 'x[1] <= 19.0\\ngini = 0.355\\nsamples = 26\\nvalue = [20, 6]'),\n",
       " Text(0.25, 0.4090909090909091, 'x[5] <= 13.935\\ngini = 0.494\\nsamples = 9\\nvalue = [4, 5]'),\n",
       " Text(0.2391304347826087, 0.3181818181818182, 'x[1] <= 3.0\\ngini = 0.278\\nsamples = 6\\nvalue = [1, 5]'),\n",
       " Text(0.22826086956521738, 0.22727272727272727, 'x[5] <= 11.375\\ngini = 0.5\\nsamples = 2\\nvalue = [1, 1]'),\n",
       " Text(0.21739130434782608, 0.13636363636363635, 'gini = 0.0\\nsamples = 1\\nvalue = [1, 0]'),\n",
       " Text(0.2391304347826087, 0.13636363636363635, 'gini = 0.0\\nsamples = 1\\nvalue = [0, 1]'),\n",
       " Text(0.25, 0.22727272727272727, 'gini = 0.0\\nsamples = 4\\nvalue = [0, 4]'),\n",
       " Text(0.2608695652173913, 0.3181818181818182, 'gini = 0.0\\nsamples = 3\\nvalue = [3, 0]'),\n",
       " Text(0.29347826086956524, 0.4090909090909091, 'x[5] <= 8.294\\ngini = 0.111\\nsamples = 17\\nvalue = [16, 1]'),\n",
       " Text(0.2826086956521739, 0.3181818181818182, 'x[1] <= 25.5\\ngini = 0.375\\nsamples = 4\\nvalue = [3, 1]'),\n",
       " Text(0.2717391304347826, 0.22727272727272727, 'gini = 0.0\\nsamples = 2\\nvalue = [2, 0]'),\n",
       " Text(0.29347826086956524, 0.22727272727272727, 'x[5] <= 7.91\\ngini = 0.5\\nsamples = 2\\nvalue = [1, 1]'),\n",
       " Text(0.2826086956521739, 0.13636363636363635, 'gini = 0.0\\nsamples = 1\\nvalue = [1, 0]'),\n",
       " Text(0.30434782608695654, 0.13636363636363635, 'gini = 0.0\\nsamples = 1\\nvalue = [0, 1]'),\n",
       " Text(0.30434782608695654, 0.3181818181818182, 'gini = 0.0\\nsamples = 13\\nvalue = [13, 0]'),\n",
       " Text(0.375, 0.5, 'x[5] <= 15.975\\ngini = 0.454\\nsamples = 23\\nvalue = [8, 15]'),\n",
       " Text(0.3641304347826087, 0.4090909090909091, 'gini = 0.0\\nsamples = 4\\nvalue = [0, 4]'),\n",
       " Text(0.3858695652173913, 0.4090909090909091, 'x[5] <= 21.55\\ngini = 0.488\\nsamples = 19\\nvalue = [8, 11]'),\n",
       " Text(0.358695652173913, 0.3181818181818182, 'x[4] <= 0.5\\ngini = 0.497\\nsamples = 13\\nvalue = [7, 6]'),\n",
       " Text(0.33695652173913043, 0.22727272727272727, 'x[1] <= 33.5\\ngini = 0.32\\nsamples = 5\\nvalue = [4, 1]'),\n",
       " Text(0.32608695652173914, 0.13636363636363635, 'gini = 0.0\\nsamples = 4\\nvalue = [4, 0]'),\n",
       " Text(0.34782608695652173, 0.13636363636363635, 'gini = 0.0\\nsamples = 1\\nvalue = [0, 1]'),\n",
       " Text(0.3804347826086957, 0.22727272727272727, 'x[5] <= 20.8\\ngini = 0.469\\nsamples = 8\\nvalue = [3, 5]'),\n",
       " Text(0.3695652173913043, 0.13636363636363635, 'x[1] <= 38.0\\ngini = 0.278\\nsamples = 6\\nvalue = [1, 5]'),\n",
       " Text(0.358695652173913, 0.045454545454545456, 'gini = 0.0\\nsamples = 5\\nvalue = [0, 5]'),\n",
       " Text(0.3804347826086957, 0.045454545454545456, 'gini = 0.0\\nsamples = 1\\nvalue = [1, 0]'),\n",
       " Text(0.391304347826087, 0.13636363636363635, 'gini = 0.0\\nsamples = 2\\nvalue = [2, 0]'),\n",
       " Text(0.41304347826086957, 0.3181818181818182, 'x[5] <= 23.7\\ngini = 0.278\\nsamples = 6\\nvalue = [1, 5]'),\n",
       " Text(0.40217391304347827, 0.22727272727272727, 'gini = 0.0\\nsamples = 4\\nvalue = [0, 4]'),\n",
       " Text(0.42391304347826086, 0.22727272727272727, 'x[1] <= 24.0\\ngini = 0.5\\nsamples = 2\\nvalue = [1, 1]'),\n",
       " Text(0.41304347826086957, 0.13636363636363635, 'gini = 0.0\\nsamples = 1\\nvalue = [1, 0]'),\n",
       " Text(0.43478260869565216, 0.13636363636363635, 'gini = 0.0\\nsamples = 1\\nvalue = [0, 1]'),\n",
       " Text(0.4076086956521739, 0.5909090909090909, 'x[5] <= 31.331\\ngini = 0.231\\nsamples = 15\\nvalue = [13, 2]'),\n",
       " Text(0.3967391304347826, 0.5, 'gini = 0.0\\nsamples = 7\\nvalue = [7, 0]'),\n",
       " Text(0.41847826086956524, 0.5, 'x[5] <= 32.881\\ngini = 0.375\\nsamples = 8\\nvalue = [6, 2]'),\n",
       " Text(0.4076086956521739, 0.4090909090909091, 'gini = 0.0\\nsamples = 2\\nvalue = [0, 2]'),\n",
       " Text(0.42934782608695654, 0.4090909090909091, 'gini = 0.0\\nsamples = 6\\nvalue = [6, 0]'),\n",
       " Text(0.6644021739130435, 0.8636363636363636, 'x[5] <= 26.269\\ngini = 0.291\\nsamples = 407\\nvalue = [335, 72]'),\n",
       " Text(0.5713315217391305, 0.7727272727272727, 'x[1] <= 9.5\\ngini = 0.208\\nsamples = 297\\nvalue = [262, 35]'),\n",
       " Text(0.5081521739130435, 0.6818181818181818, 'x[5] <= 8.127\\ngini = 0.498\\nsamples = 17\\nvalue = [8, 9]'),\n",
       " Text(0.49728260869565216, 0.5909090909090909, 'gini = 0.0\\nsamples = 6\\nvalue = [6, 0]'),\n",
       " Text(0.5190217391304348, 0.5909090909090909, 'x[5] <= 19.358\\ngini = 0.298\\nsamples = 11\\nvalue = [2, 9]'),\n",
       " Text(0.5081521739130435, 0.5, 'gini = 0.0\\nsamples = 8\\nvalue = [0, 8]'),\n",
       " Text(0.529891304347826, 0.5, 'x[4] <= 1.5\\ngini = 0.444\\nsamples = 3\\nvalue = [2, 1]'),\n",
       " Text(0.5190217391304348, 0.4090909090909091, 'gini = 0.0\\nsamples = 2\\nvalue = [2, 0]'),\n",
       " Text(0.5407608695652174, 0.4090909090909091, 'gini = 0.0\\nsamples = 1\\nvalue = [0, 1]'),\n",
       " Text(0.6345108695652174, 0.6818181818181818, 'x[5] <= 15.796\\ngini = 0.168\\nsamples = 280\\nvalue = [254, 26]'),\n",
       " Text(0.623641304347826, 0.5909090909090909, 'x[5] <= 15.621\\ngini = 0.186\\nsamples = 250\\nvalue = [224, 26]'),\n",
       " Text(0.6127717391304348, 0.5, 'x[1] <= 45.25\\ngini = 0.181\\nsamples = 249\\nvalue = [224, 25]'),\n",
       " Text(0.5625, 0.4090909090909091, 'x[1] <= 41.5\\ngini = 0.197\\nsamples = 217\\nvalue = [193, 24]'),\n",
       " Text(0.5054347826086957, 0.3181818181818182, 'x[1] <= 34.25\\ngini = 0.176\\nsamples = 205\\nvalue = [185, 20]'),\n",
       " Text(0.4782608695652174, 0.22727272727272727, 'x[5] <= 7.798\\ngini = 0.193\\nsamples = 176\\nvalue = [157, 19]'),\n",
       " Text(0.45652173913043476, 0.13636363636363635, 'x[1] <= 19.5\\ngini = 0.252\\nsamples = 61\\nvalue = [52, 9]'),\n",
       " Text(0.44565217391304346, 0.045454545454545456, 'gini = 0.0\\nsamples = 15\\nvalue = [15, 0]'),\n",
       " Text(0.4673913043478261, 0.045454545454545456, 'gini = 0.315\\nsamples = 46\\nvalue = [37, 9]'),\n",
       " Text(0.5, 0.13636363636363635, 'x[1] <= 28.5\\ngini = 0.159\\nsamples = 115\\nvalue = [105, 10]'),\n",
       " Text(0.4891304347826087, 0.045454545454545456, 'gini = 0.092\\nsamples = 83\\nvalue = [79, 4]'),\n",
       " Text(0.5108695652173914, 0.045454545454545456, 'gini = 0.305\\nsamples = 32\\nvalue = [26, 6]'),\n",
       " Text(0.532608695652174, 0.22727272727272727, 'x[1] <= 38.5\\ngini = 0.067\\nsamples = 29\\nvalue = [28, 1]'),\n",
       " Text(0.5217391304347826, 0.13636363636363635, 'gini = 0.0\\nsamples = 22\\nvalue = [22, 0]'),\n",
       " Text(0.5434782608695652, 0.13636363636363635, 'x[5] <= 7.91\\ngini = 0.245\\nsamples = 7\\nvalue = [6, 1]'),\n",
       " Text(0.532608695652174, 0.045454545454545456, 'gini = 0.0\\nsamples = 5\\nvalue = [5, 0]'),\n",
       " Text(0.5543478260869565, 0.045454545454545456, 'gini = 0.5\\nsamples = 2\\nvalue = [1, 1]'),\n",
       " Text(0.6195652173913043, 0.3181818181818182, 'x[5] <= 7.788\\ngini = 0.444\\nsamples = 12\\nvalue = [8, 4]'),\n",
       " Text(0.5978260869565217, 0.22727272727272727, 'x[1] <= 43.0\\ngini = 0.32\\nsamples = 5\\nvalue = [4, 1]'),\n",
       " Text(0.5869565217391305, 0.13636363636363635, 'x[5] <= 7.39\\ngini = 0.444\\nsamples = 3\\nvalue = [2, 1]'),\n",
       " Text(0.5760869565217391, 0.045454545454545456, 'gini = 0.0\\nsamples = 1\\nvalue = [0, 1]'),\n",
       " Text(0.5978260869565217, 0.045454545454545456, 'gini = 0.0\\nsamples = 2\\nvalue = [2, 0]'),\n",
       " Text(0.6086956521739131, 0.13636363636363635, 'gini = 0.0\\nsamples = 2\\nvalue = [2, 0]'),\n",
       " Text(0.6413043478260869, 0.22727272727272727, 'x[5] <= 7.988\\ngini = 0.49\\nsamples = 7\\nvalue = [4, 3]'),\n",
       " Text(0.6304347826086957, 0.13636363636363635, 'gini = 0.0\\nsamples = 1\\nvalue = [0, 1]'),\n",
       " Text(0.6521739130434783, 0.13636363636363635, 'x[1] <= 44.5\\ngini = 0.444\\nsamples = 6\\nvalue = [4, 2]'),\n",
       " Text(0.6413043478260869, 0.045454545454545456, 'gini = 0.32\\nsamples = 5\\nvalue = [4, 1]'),\n",
       " Text(0.6630434782608695, 0.045454545454545456, 'gini = 0.0\\nsamples = 1\\nvalue = [0, 1]'),\n",
       " Text(0.6630434782608695, 0.4090909090909091, 'x[1] <= 60.5\\ngini = 0.061\\nsamples = 32\\nvalue = [31, 1]'),\n",
       " Text(0.6521739130434783, 0.3181818181818182, 'gini = 0.0\\nsamples = 28\\nvalue = [28, 0]'),\n",
       " Text(0.6739130434782609, 0.3181818181818182, 'x[1] <= 64.0\\ngini = 0.375\\nsamples = 4\\nvalue = [3, 1]'),\n",
       " Text(0.6630434782608695, 0.22727272727272727, 'gini = 0.0\\nsamples = 1\\nvalue = [0, 1]'),\n",
       " Text(0.6847826086956522, 0.22727272727272727, 'gini = 0.0\\nsamples = 3\\nvalue = [3, 0]'),\n",
       " Text(0.6345108695652174, 0.5, 'gini = 0.0\\nsamples = 1\\nvalue = [0, 1]'),\n",
       " Text(0.6453804347826086, 0.5909090909090909, 'gini = 0.0\\nsamples = 30\\nvalue = [30, 0]'),\n",
       " Text(0.7574728260869565, 0.7727272727272727, 'x[5] <= 26.775\\ngini = 0.446\\nsamples = 110\\nvalue = [73, 37]'),\n",
       " Text(0.7065217391304348, 0.6818181818181818, 'x[1] <= 40.5\\ngini = 0.42\\nsamples = 10\\nvalue = [3, 7]'),\n",
       " Text(0.6956521739130435, 0.5909090909090909, 'gini = 0.0\\nsamples = 6\\nvalue = [0, 6]'),\n",
       " Text(0.717391304347826, 0.5909090909090909, 'x[1] <= 50.5\\ngini = 0.375\\nsamples = 4\\nvalue = [3, 1]'),\n",
       " Text(0.7065217391304348, 0.5, 'gini = 0.5\\nsamples = 2\\nvalue = [1, 1]'),\n",
       " Text(0.7282608695652174, 0.5, 'gini = 0.0\\nsamples = 2\\nvalue = [2, 0]'),\n",
       " Text(0.8084239130434783, 0.6818181818181818, 'x[5] <= 29.85\\ngini = 0.42\\nsamples = 100\\nvalue = [70, 30]'),\n",
       " Text(0.7975543478260869, 0.5909090909090909, 'gini = 0.0\\nsamples = 13\\nvalue = [13, 0]'),\n",
       " Text(0.8192934782608695, 0.5909090909090909, 'x[1] <= 8.5\\ngini = 0.452\\nsamples = 87\\nvalue = [57, 30]'),\n",
       " Text(0.75, 0.5, 'x[3] <= 3.0\\ngini = 0.473\\nsamples = 13\\nvalue = [5, 8]'),\n",
       " Text(0.7282608695652174, 0.4090909090909091, 'x[4] <= 0.5\\ngini = 0.346\\nsamples = 9\\nvalue = [2, 7]'),\n",
       " Text(0.717391304347826, 0.3181818181818182, 'x[0] <= 2.0\\ngini = 0.5\\nsamples = 4\\nvalue = [2, 2]'),\n",
       " Text(0.7065217391304348, 0.22727272727272727, 'gini = 0.0\\nsamples = 1\\nvalue = [1, 0]'),\n",
       " Text(0.7282608695652174, 0.22727272727272727, 'x[1] <= 3.0\\ngini = 0.444\\nsamples = 3\\nvalue = [1, 2]'),\n",
       " Text(0.717391304347826, 0.13636363636363635, 'gini = 0.5\\nsamples = 2\\nvalue = [1, 1]'),\n",
       " Text(0.7391304347826086, 0.13636363636363635, 'gini = 0.0\\nsamples = 1\\nvalue = [0, 1]'),\n",
       " Text(0.7391304347826086, 0.3181818181818182, 'gini = 0.0\\nsamples = 5\\nvalue = [0, 5]'),\n",
       " Text(0.7717391304347826, 0.4090909090909091, 'x[1] <= 2.5\\ngini = 0.375\\nsamples = 4\\nvalue = [3, 1]'),\n",
       " Text(0.7608695652173914, 0.3181818181818182, 'gini = 0.0\\nsamples = 2\\nvalue = [2, 0]'),\n",
       " Text(0.782608695652174, 0.3181818181818182, 'x[5] <= 31.331\\ngini = 0.5\\nsamples = 2\\nvalue = [1, 1]'),\n",
       " Text(0.7717391304347826, 0.22727272727272727, 'gini = 0.0\\nsamples = 1\\nvalue = [1, 0]'),\n",
       " Text(0.7934782608695652, 0.22727272727272727, 'gini = 0.0\\nsamples = 1\\nvalue = [0, 1]'),\n",
       " Text(0.8885869565217391, 0.5, 'x[5] <= 379.925\\ngini = 0.418\\nsamples = 74\\nvalue = [52, 22]'),\n",
       " Text(0.8777173913043478, 0.4090909090909091, 'x[5] <= 30.598\\ngini = 0.401\\nsamples = 72\\nvalue = [52, 20]'),\n",
       " Text(0.8260869565217391, 0.3181818181818182, 'x[1] <= 28.0\\ngini = 0.444\\nsamples = 6\\nvalue = [2, 4]'),\n",
       " Text(0.8152173913043478, 0.22727272727272727, 'gini = 0.0\\nsamples = 1\\nvalue = [0, 1]'),\n",
       " Text(0.8369565217391305, 0.22727272727272727, 'x[1] <= 30.5\\ngini = 0.48\\nsamples = 5\\nvalue = [2, 3]'),\n",
       " Text(0.8260869565217391, 0.13636363636363635, 'gini = 0.0\\nsamples = 1\\nvalue = [1, 0]'),\n",
       " Text(0.8478260869565217, 0.13636363636363635, 'x[1] <= 45.0\\ngini = 0.375\\nsamples = 4\\nvalue = [1, 3]'),\n",
       " Text(0.8369565217391305, 0.045454545454545456, 'gini = 0.0\\nsamples = 2\\nvalue = [0, 2]'),\n",
       " Text(0.8586956521739131, 0.045454545454545456, 'gini = 0.5\\nsamples = 2\\nvalue = [1, 1]'),\n",
       " Text(0.9293478260869565, 0.3181818181818182, 'x[5] <= 52.277\\ngini = 0.367\\nsamples = 66\\nvalue = [50, 16]'),\n",
       " Text(0.9021739130434783, 0.22727272727272727, 'x[5] <= 36.125\\ngini = 0.153\\nsamples = 24\\nvalue = [22, 2]'),\n",
       " Text(0.8913043478260869, 0.13636363636363635, 'x[5] <= 35.077\\ngini = 0.375\\nsamples = 8\\nvalue = [6, 2]'),\n",
       " Text(0.8804347826086957, 0.045454545454545456, 'gini = 0.245\\nsamples = 7\\nvalue = [6, 1]'),\n",
       " Text(0.9021739130434783, 0.045454545454545456, 'gini = 0.0\\nsamples = 1\\nvalue = [0, 1]'),\n",
       " Text(0.9130434782608695, 0.13636363636363635, 'gini = 0.0\\nsamples = 16\\nvalue = [16, 0]'),\n",
       " Text(0.9565217391304348, 0.22727272727272727, 'x[5] <= 59.052\\ngini = 0.444\\nsamples = 42\\nvalue = [28, 14]'),\n",
       " Text(0.9347826086956522, 0.13636363636363635, 'x[5] <= 52.827\\ngini = 0.375\\nsamples = 8\\nvalue = [2, 6]'),\n",
       " Text(0.9239130434782609, 0.045454545454545456, 'gini = 0.0\\nsamples = 2\\nvalue = [0, 2]'),\n",
       " Text(0.9456521739130435, 0.045454545454545456, 'gini = 0.444\\nsamples = 6\\nvalue = [2, 4]'),\n",
       " Text(0.9782608695652174, 0.13636363636363635, 'x[1] <= 17.5\\ngini = 0.36\\nsamples = 34\\nvalue = [26, 8]'),\n",
       " Text(0.967391304347826, 0.045454545454545456, 'gini = 0.0\\nsamples = 2\\nvalue = [0, 2]'),\n",
       " Text(0.9891304347826086, 0.045454545454545456, 'gini = 0.305\\nsamples = 32\\nvalue = [26, 6]'),\n",
       " Text(0.8994565217391305, 0.4090909090909091, 'gini = 0.0\\nsamples = 2\\nvalue = [0, 2]')]"
      ]
     },
     "execution_count": 73,
     "metadata": {},
     "output_type": "execute_result"
    },
    {
     "data": {
      "image/png": "[encoded data removed]",
      "text/plain": [
       "<Figure size 640x480 with 1 Axes>"
      ]
     },
     "metadata": {},
     "output_type": "display_data"
    }
   ],
   "source": [
    "plot_tree(arbol)"
   ]
  },
  {
   "cell_type": "markdown",
   "id": "ef71a537-b69f-4646-b1fd-07a61ec1c524",
   "metadata": {},
   "source": [
    "# 8.Interpretar, analizar y documentar los resultados obtenidos."
   ]
  },
  {
   "cell_type": "markdown",
   "id": "c0304c54-63c0-4317-9b3f-54a39b709d0d",
   "metadata": {},
   "source": [
    "# nos muestra que murireon alrededor de 600 personas, y vivieron alrededor de 350 personas. \n",
    "# nos muestra que hay casi 600 hombres y alrededor de 300 mujeres. \n",
    "# podemos apreciar que muchos hombres alrededor de 15 a 75 años murieron\n",
    "# muchas mujeres de 15 a 65 años sobrevivieron. "
   ]
  },
  {
   "cell_type": "markdown",
   "id": "16bab0a0-d223-4e73-97e2-5138543b486f",
   "metadata": {},
   "source": [
    "# tambien podemos apreciar muchos, tanto hombres como mujeres lograron vivir que tenian la clase 1. vemos que con la clase 2 vivieron mas la mujeres.\n",
    "# Con la clase 3 vemos que tanto hombres commo mujeres no sobrevivieron. "
   ]
  },
  {
   "cell_type": "code",
   "execution_count": null,
   "id": "5169ea27-41a2-4799-9789-0abeab3fff6f",
   "metadata": {},
   "outputs": [],
   "source": []
  }
 ],
 "metadata": {
  "kernelspec": {
   "display_name": "Python 3 (ipykernel)",
   "language": "python",
   "name": "python3"
  },
  "language_info": {
   "codemirror_mode": {
    "name": "ipython",
    "version": 3
   },
   "file_extension": ".py",
   "mimetype": "text/x-python",
   "name": "python",
   "nbconvert_exporter": "python",
   "pygments_lexer": "ipython3",
   "version": "3.11.7"
  }
 },
 "nbformat": 4,
 "nbformat_minor": 5
}
